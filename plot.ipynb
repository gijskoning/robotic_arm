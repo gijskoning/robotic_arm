{
 "cells": [
  {
   "cell_type": "code",
   "execution_count": null,
   "metadata": {},
   "outputs": [],
   "source": [
    "import json\n",
    "import os\n",
    "import time\n",
    "\n",
    "import numpy as np\n",
    "from matplotlib import pyplot as plt\n",
    "from torch.utils.tensorboard import SummaryWriter\n",
    "\n",
    "import utils\n",
    "from logger import Logger\n",
    "from plot_data import plot_data, read_file, create_average_reward_list, plot_average, get_file\n",
    "from train import make_agent, parse_args\n",
    "\n",
    "calculate_average_each_step = 10000\n",
    "average_over_last_steps = 15000\n",
    "plots = []\n",
    "plt.axvline(x=400000, color='grey', linestyle='dashed', alpha=0.5)\n",
    "_, plot = plot_data(\"encoder_freeze_100k/train_fixed.log\", average_over_last_steps=average_over_last_steps,\n",
    "          calculate_average_each_step=calculate_average_each_step,\n",
    "          max_step=8e5)\n",
    "plots.append(plot)\n",
    "_, plot = plot_data(\"CURL_100k/train.log\", average_over_last_steps=average_over_last_steps,\n",
    "          calculate_average_each_step=calculate_average_each_step, max_step=8e5)\n",
    "plots.append(plot)\n",
    "plt.ylim((0,820))\n",
    "plt.grid()\n",
    "plt.legend(plots, [\"CURL frozen encoder\",\"CURL regular\"])\n",
    "plt.savefig(\"docs/images/freezed_encoder_steps\")\n",
    "plt.show()\n",
    "\n",
    "calculate_average_each_step_time = calculate_average_each_step /65\n",
    "average_over_last_steps_time = average_over_last_steps /50\n",
    "plt.axvline(x=215, color='grey', linestyle='dashed', alpha=0.5)\n",
    "_, plot = plot_data(\"encoder_freeze_100k/train_fixed.log\", average_over_last_steps=average_over_last_steps_time,\n",
    "          calculate_average_each_step=calculate_average_each_step_time,\n",
    "          max_step=8e5+10, x_axis_duration=True)\n",
    "plots.append(plot)\n",
    "_, plot = plot_data(\"CURL_100k/train.log\", average_over_last_steps=average_over_last_steps_time,\n",
    "          calculate_average_each_step=calculate_average_each_step_time, max_step=8e5, x_axis_duration=True)\n",
    "plots.append(plot)\n",
    "plt.legend(plots, [\"CURL frozen encoder\",\"CURL regular\"])\n",
    "# plt.xlabel()\n",
    "plt.ylim((0,820))\n",
    "\n",
    "plt.grid()\n",
    "plt.savefig(\"docs/images/freezed_encoder_minutes\")\n",
    "plt.show()"
   ]
  }
 ],
 "metadata": {
  "kernelspec": {
   "display_name": "Python 3",
   "language": "python",
   "name": "python3"
  },
  "language_info": {
   "codemirror_mode": {
    "name": "ipython",
    "version": 3
   },
   "file_extension": ".py",
   "mimetype": "text/x-python",
   "name": "python",
   "nbconvert_exporter": "python",
   "pygments_lexer": "ipython3",
   "version": "3.6.13"
  }
 },
 "nbformat": 4,
 "nbformat_minor": 1
}